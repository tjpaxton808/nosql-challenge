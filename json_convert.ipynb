{
 "cells": [
  {
   "cell_type": "code",
   "execution_count": 1,
   "metadata": {},
   "outputs": [],
   "source": [
    "import json\n",
    "\n",
    "input_path = 'Resources/establishments.json'  # Replace with your file's path\n",
    "output_path = 'Resources/establishments.json'  # Path for the output file\n",
    "\n",
    "# Read the original JSON file\n",
    "with open(input_path, 'r') as file:\n",
    "    data = json.load(file)  # This loads the JSON array into a Python list\n",
    "\n",
    "# Write each JSON object to a new file, properly formatted\n",
    "with open(output_path, 'w') as file:\n",
    "    for entry in data:\n",
    "        json.dump(entry, file)  # Convert the Python dictionary to JSON and write\n",
    "        file.write('\\n')  # Add a newline after each JSON object\n"
   ]
  },
  {
   "cell_type": "code",
   "execution_count": null,
   "metadata": {},
   "outputs": [],
   "source": []
  }
 ],
 "metadata": {
  "kernelspec": {
   "display_name": "my_env",
   "language": "python",
   "name": "python3"
  },
  "language_info": {
   "codemirror_mode": {
    "name": "ipython",
    "version": 3
   },
   "file_extension": ".py",
   "mimetype": "text/x-python",
   "name": "python",
   "nbconvert_exporter": "python",
   "pygments_lexer": "ipython3",
   "version": "3.10.15"
  }
 },
 "nbformat": 4,
 "nbformat_minor": 2
}
